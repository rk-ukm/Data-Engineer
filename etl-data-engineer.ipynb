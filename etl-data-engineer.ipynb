# Install pandas and requests libraries
!mamba install pandas==1.3.3 -y
!mamba install requests==2.26.0 -y

# Import  Additional Libraries
import glob
import pandas as pd
from datetime import datetime

# Download data to work on ETL processes
!wget https://cf-courses-data.s3.us.cloud-object-storage.appdomain.cloud/IBMDeveloperSkillsNetwork-PY0221EN-SkillsNetwork/labs/module%206/Lab%20-%20Extract%20Transform%20Load/data/bank_market_cap_1.json
!wget https://cf-courses-data.s3.us.cloud-object-storage.appdomain.cloud/IBMDeveloperSkillsNetwork-PY0221EN-SkillsNetwork/labs/module%206/Lab%20-%20Extract%20Transform%20Load/data/bank_market_cap_2.json
!wget https://cf-courses-data.s3.us.cloud-object-storage.appdomain.cloud/IBMDeveloperSkillsNetwork-PY0221EN-SkillsNetwork/labs/module%206/Final%20Assignment/exchange_rates.csv

# JSON Extract Function
# NB.: we can write the function in any way it suits better.
# This function will extract JSON files.

# def extract_from_json(file_to_process):
#     dataframe = pd.read_json(file_to_process)
#     return dataframe

# Defining the extract_from_json function to extract data from a JSON file
def extract_from_json(file_to_process):
    try:
        # Read the JSON file into a DataFrame
        dataframe = pd.read_json(file_to_process)

        # Rename columns if needed
        dataframe.columns = ['Name', 'Market Cap (US$ Billion)']

        return dataframe

    except FileNotFoundError:
        print(f"The JSON file '{file_to_process}' was not found.")
        return None


# EXTRACT FUNCTION
# Define the extract function that finds JSON file bank_market_cap_1.json and calls the function created above to extract data from them.
# Store the data in a pandas dataframe. Use the following list for the columns.

columns=['Name','Market Cap (US$ Billion)']
# Defining the extract function
def extract():
    try:
        # Setting the path to the JSON file
        json_file_path = 'bank_market_cap_1.json'

        # Calling the extract_from_json function to extract data
        dataframe = extract_from_json(json_file_path)

        # Return the DataFrame
        return dataframe

    except FileNotFoundError:
        print("The JSON file 'bank_market_cap_1.json' was not found.")
        return None  # You can return None in case of an error

# Calling the extract function and assigning the result to extracted_data
extracted_data = extract()

# Checking if extracted_data is not None before using the head() method
if extracted_data is not None:
    extracted_data.head()

# Load the file exchange_rates.csv as a dataframe and find the exchange rate for British pounds with the symbol GBP, store it in the variable exchange_rate, you will be asked for the number.
# Hint: set the parameter index_col to 0.¶ 

# Write your code here
import pandas as pd

# Loading the CSV file as a DataFrame
dfExchange = pd.read_csv('exchange_rates.csv', index_col=0)

# Find the exchange rate for British pounds (GBP)
if 'GBP' in dfExchange.index:
    exchange_rate = dfExchange.loc['GBP', 'Rates']
    print(f"The exchange rate for GBP is : {exchange_rate}")
else:
    print("GBP not found in the Exchange Rates DataFrame")


# Transform Function
# Using exchange_rate and the exchange_rates.csv file find the exchange rate of USD to GBP. Write a transform function that

# Changes the Market Cap (US$ Billion) column from USD to GBP
# Rounds the Market Cap (US$ Billion)` column to 3 decimal places
# Rename Market Cap (US$ Billion) to Market Cap (GBP$ Billion)

# Loading the CSV file as a DataFrame
dfExchange = pd.read_csv('exchange_rates.csv', index_col=0)

# Find the exchange rate for British pounds (GBP)
if 'GBP' in dfExchange.index:
    exchange_rate = dfExchange.loc['GBP', 'Rates']
    print(f"The exchange rate for GBP is : {exchange_rate}")
else:
    print("GBP not found in the Exchange Rates DataFrame")
    
def transform(data):
    try:
        # Create a DataFrame from the provided data
        df = pd.DataFrame(data)

        # Checking if 'Market Cap (US$ Billion)' column exists in the DataFrame
        if 'Market Cap (US$ Billion)' in df.columns:
            # Convert the 'Market Cap (US$ Billion)' column values to numeric (float)
            df['Market Cap (US$ Billion)'] = pd.to_numeric(df['Market Cap (US$ Billion)'], errors='coerce')

            # Convert the 'Market Cap (US$ Billion)' column from USD to GBP
            exchange_rate_usd_to_gbp = 0.7323984208000001  # Replace with the actual exchange rate
            df['Market Cap (US$ Billion)'] = df['Market Cap (US$ Billion)'] * exchange_rate_usd_to_gbp

            # Round up the 'Market Cap (US$ Billion)' column to 3 decimal places
            df['Market Cap (US$ Billion)'] = df['Market Cap (US$ Billion)'].round(3)

            # Renaming the column to 'Market Cap (GBP$ Billion)'
            df = df.rename(columns={'Market Cap (US$ Billion)': 'Market Cap (GBP$ Billion)'})
        else:
            print("Column 'Market Cap (US$ Billion)' not found in the DataFrame.")

        return df

    except Exception as e:
        print(f"An error occurred: {str(e)}")
        return None


# Load Function
# Create a function that takes a dataframe and load it to a csv named bank_market_cap_gbp.csv. Make sure to set index to False.

# Let's make our targetfile :
targetfile = "bank_market_cap_gbp.csv"

# Define the load function
def load(targetfile, data_to_load):
    # Save the DataFrame to the specified CSV file
    data_to_load.to_csv(targetfile, index=False)


# Logging Function
# Write the logging function log to log your data:

logfile = "bank_market_logfile.txt"

# log function
def log(message):
    time_format = '%H:%M:%S-%h-%d-%Y'
    current_time = datetime.now()
    timestamp = current_time.strftime(time_format)
    
    with open("bank_market_logfile.txt", "a") as f:
        f.write(timestamp + ',' + message + '\n')

# Running the ETL Process
# Log the process accordingly using the following "ETL Job Started" and "Extract phase Started"

# Write your code here
log("ETL Job Started...")

# Calling Extract Function
log("Extract Phase Started...")

# Call the function here
extracted_data = extract()

# Print the rows here
extracted_data.head()

# Write your code here
log("Extract Phase Ended.")

# Calling Transform Function
# Write your code here
log("Transform Phase Started...")

# Call the function here
transformed_data =transform(extracted_data)

# Print the first 5 rows here
transformed_data.head()

# Write your code here
log("Transform Phase Ended.")

# Calling Load Function
# Write your code here
log("Load Phase Started")

# Write your code here
load(targetfile, transformed_data)

# Write your code here
log("ETL Job Ended!")
